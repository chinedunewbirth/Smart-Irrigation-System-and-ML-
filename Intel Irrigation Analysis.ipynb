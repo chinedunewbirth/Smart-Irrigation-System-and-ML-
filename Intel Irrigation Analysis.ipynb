{
 "cells": [
  {
   "cell_type": "markdown",
   "id": "ef76cc8b",
   "metadata": {},
   "source": [
    "# Intel Irrigation Analysis on the Dataset Capture from the IOT device with Major Parameters Temperature, Pressure, Amplitude, Soil Moiture, Datetime and Class"
   ]
  },
  {
   "cell_type": "code",
   "execution_count": 32,
   "id": "d763111d",
   "metadata": {},
   "outputs": [],
   "source": [
    "#import libraries\n",
    "import pandas as pd\n",
    "import numpy as np\n",
    "import os\n",
    "from sklearn.model_selection import train_test_split\n",
    "from sklearn.preprocessing import StandardScaler\n",
    "from sklearn import model_selection\n",
    "from sklearn.pipeline import make_pipeline\n",
    "from sklearn.naive_bayes import GaussianNB\n",
    "from sklearn.ensemble import RandomForestClassifier\n",
    "from sklearn.tree import DecisionTreeClassifier\n",
    "from sklearn.svm import SVC\n",
    "import matplotlib.pyplot as plt\n",
    "%matplotlib inline\n",
    "import seaborn as sns\n",
    "from sklearn.metrics import accuracy_score, confusion_matrix, classification_report"
   ]
  },
  {
   "cell_type": "code",
   "execution_count": 33,
   "id": "33ca0d5c",
   "metadata": {},
   "outputs": [
    {
     "data": {
      "text/html": [
       "<div>\n",
       "<style scoped>\n",
       "    .dataframe tbody tr th:only-of-type {\n",
       "        vertical-align: middle;\n",
       "    }\n",
       "\n",
       "    .dataframe tbody tr th {\n",
       "        vertical-align: top;\n",
       "    }\n",
       "\n",
       "    .dataframe thead th {\n",
       "        text-align: right;\n",
       "    }\n",
       "</style>\n",
       "<table border=\"1\" class=\"dataframe\">\n",
       "  <thead>\n",
       "    <tr style=\"text-align: right;\">\n",
       "      <th></th>\n",
       "      <th>id</th>\n",
       "      <th>temperature</th>\n",
       "      <th>pressure</th>\n",
       "      <th>altitude</th>\n",
       "      <th>soilmiosture</th>\n",
       "      <th>note</th>\n",
       "      <th>status</th>\n",
       "      <th>class</th>\n",
       "      <th>date</th>\n",
       "      <th>time</th>\n",
       "    </tr>\n",
       "  </thead>\n",
       "  <tbody>\n",
       "    <tr>\n",
       "      <th>0</th>\n",
       "      <td>1</td>\n",
       "      <td>29.10</td>\n",
       "      <td>9984.53</td>\n",
       "      <td>12.21-</td>\n",
       "      <td>377</td>\n",
       "      <td>0</td>\n",
       "      <td>0</td>\n",
       "      <td>Very Dry</td>\n",
       "      <td>08/10/2022</td>\n",
       "      <td>22:06:24</td>\n",
       "    </tr>\n",
       "    <tr>\n",
       "      <th>1</th>\n",
       "      <td>2</td>\n",
       "      <td>29.08</td>\n",
       "      <td>9984.36</td>\n",
       "      <td>12.22-</td>\n",
       "      <td>379</td>\n",
       "      <td>0</td>\n",
       "      <td>0</td>\n",
       "      <td>Very Dry</td>\n",
       "      <td>08/10/2022</td>\n",
       "      <td>22:06:24</td>\n",
       "    </tr>\n",
       "    <tr>\n",
       "      <th>2</th>\n",
       "      <td>3</td>\n",
       "      <td>29.06</td>\n",
       "      <td>9984.56</td>\n",
       "      <td>12.20-</td>\n",
       "      <td>376</td>\n",
       "      <td>0</td>\n",
       "      <td>0</td>\n",
       "      <td>Very Dry</td>\n",
       "      <td>08/10/2022</td>\n",
       "      <td>22:06:24</td>\n",
       "    </tr>\n",
       "    <tr>\n",
       "      <th>3</th>\n",
       "      <td>4</td>\n",
       "      <td>29.05</td>\n",
       "      <td>9984.39</td>\n",
       "      <td>12.22-</td>\n",
       "      <td>377</td>\n",
       "      <td>0</td>\n",
       "      <td>0</td>\n",
       "      <td>Very Dry</td>\n",
       "      <td>08/10/2022</td>\n",
       "      <td>22:06:24</td>\n",
       "    </tr>\n",
       "    <tr>\n",
       "      <th>4</th>\n",
       "      <td>5</td>\n",
       "      <td>29.03</td>\n",
       "      <td>9984.42</td>\n",
       "      <td>12.21-</td>\n",
       "      <td>379</td>\n",
       "      <td>0</td>\n",
       "      <td>0</td>\n",
       "      <td>Very Dry</td>\n",
       "      <td>08/10/2022</td>\n",
       "      <td>22:06:24</td>\n",
       "    </tr>\n",
       "  </tbody>\n",
       "</table>\n",
       "</div>"
      ],
      "text/plain": [
       "   id  temperature  pressure altitude  soilmiosture  note  status     class  \\\n",
       "0   1        29.10   9984.53   12.21-           377     0       0  Very Dry   \n",
       "1   2        29.08   9984.36   12.22-           379     0       0  Very Dry   \n",
       "2   3        29.06   9984.56   12.20-           376     0       0  Very Dry   \n",
       "3   4        29.05   9984.39   12.22-           377     0       0  Very Dry   \n",
       "4   5        29.03   9984.42   12.21-           379     0       0  Very Dry   \n",
       "\n",
       "         date      time  \n",
       "0  08/10/2022  22:06:24  \n",
       "1  08/10/2022  22:06:24  \n",
       "2  08/10/2022  22:06:24  \n",
       "3  08/10/2022  22:06:24  \n",
       "4  08/10/2022  22:06:24  "
      ]
     },
     "execution_count": 33,
     "metadata": {},
     "output_type": "execute_result"
    }
   ],
   "source": [
    "#load dataset from the local directory\n",
    "df = pd.read_csv(os.getcwd()+\"\\data.csv\")\n",
    "df.head()"
   ]
  },
  {
   "cell_type": "code",
   "execution_count": 63,
   "id": "b1a62fe2",
   "metadata": {},
   "outputs": [
    {
     "data": {
      "text/html": [
       "<div>\n",
       "<style scoped>\n",
       "    .dataframe tbody tr th:only-of-type {\n",
       "        vertical-align: middle;\n",
       "    }\n",
       "\n",
       "    .dataframe tbody tr th {\n",
       "        vertical-align: top;\n",
       "    }\n",
       "\n",
       "    .dataframe thead th {\n",
       "        text-align: right;\n",
       "    }\n",
       "</style>\n",
       "<table border=\"1\" class=\"dataframe\">\n",
       "  <thead>\n",
       "    <tr style=\"text-align: right;\">\n",
       "      <th></th>\n",
       "      <th>id</th>\n",
       "      <th>temperature</th>\n",
       "      <th>pressure</th>\n",
       "      <th>altitude</th>\n",
       "      <th>soilmiosture</th>\n",
       "      <th>note</th>\n",
       "      <th>status</th>\n",
       "      <th>class</th>\n",
       "      <th>date</th>\n",
       "      <th>time</th>\n",
       "    </tr>\n",
       "  </thead>\n",
       "  <tbody>\n",
       "    <tr>\n",
       "      <th>0</th>\n",
       "      <td>1</td>\n",
       "      <td>29.10</td>\n",
       "      <td>9984.53</td>\n",
       "      <td>675.6</td>\n",
       "      <td>377</td>\n",
       "      <td>0</td>\n",
       "      <td>0</td>\n",
       "      <td>Very Dry</td>\n",
       "      <td>08/10/2022</td>\n",
       "      <td>22:06:24</td>\n",
       "    </tr>\n",
       "    <tr>\n",
       "      <th>1</th>\n",
       "      <td>2</td>\n",
       "      <td>29.08</td>\n",
       "      <td>9984.36</td>\n",
       "      <td>675.6</td>\n",
       "      <td>379</td>\n",
       "      <td>0</td>\n",
       "      <td>0</td>\n",
       "      <td>Very Dry</td>\n",
       "      <td>08/10/2022</td>\n",
       "      <td>22:06:24</td>\n",
       "    </tr>\n",
       "    <tr>\n",
       "      <th>2</th>\n",
       "      <td>3</td>\n",
       "      <td>29.06</td>\n",
       "      <td>9984.56</td>\n",
       "      <td>675.6</td>\n",
       "      <td>376</td>\n",
       "      <td>0</td>\n",
       "      <td>0</td>\n",
       "      <td>Very Dry</td>\n",
       "      <td>08/10/2022</td>\n",
       "      <td>22:06:24</td>\n",
       "    </tr>\n",
       "    <tr>\n",
       "      <th>3</th>\n",
       "      <td>4</td>\n",
       "      <td>29.05</td>\n",
       "      <td>9984.39</td>\n",
       "      <td>675.6</td>\n",
       "      <td>377</td>\n",
       "      <td>0</td>\n",
       "      <td>0</td>\n",
       "      <td>Very Dry</td>\n",
       "      <td>08/10/2022</td>\n",
       "      <td>22:06:24</td>\n",
       "    </tr>\n",
       "    <tr>\n",
       "      <th>4</th>\n",
       "      <td>5</td>\n",
       "      <td>29.03</td>\n",
       "      <td>9984.42</td>\n",
       "      <td>675.6</td>\n",
       "      <td>379</td>\n",
       "      <td>0</td>\n",
       "      <td>0</td>\n",
       "      <td>Very Dry</td>\n",
       "      <td>08/10/2022</td>\n",
       "      <td>22:06:24</td>\n",
       "    </tr>\n",
       "  </tbody>\n",
       "</table>\n",
       "</div>"
      ],
      "text/plain": [
       "   id  temperature  pressure  altitude  soilmiosture  note  status     class  \\\n",
       "0   1        29.10   9984.53     675.6           377     0       0  Very Dry   \n",
       "1   2        29.08   9984.36     675.6           379     0       0  Very Dry   \n",
       "2   3        29.06   9984.56     675.6           376     0       0  Very Dry   \n",
       "3   4        29.05   9984.39     675.6           377     0       0  Very Dry   \n",
       "4   5        29.03   9984.42     675.6           379     0       0  Very Dry   \n",
       "\n",
       "         date      time  \n",
       "0  08/10/2022  22:06:24  \n",
       "1  08/10/2022  22:06:24  \n",
       "2  08/10/2022  22:06:24  \n",
       "3  08/10/2022  22:06:24  \n",
       "4  08/10/2022  22:06:24  "
      ]
     },
     "execution_count": 63,
     "metadata": {},
     "output_type": "execute_result"
    }
   ],
   "source": [
    "#Data exploration and cleaning\n",
    "df2 = df.dropna(how='all')\n",
    "\n",
    "#Load into pandas DataFrame and make the soil miosture values absolute\n",
    "df2 = pd.DataFrame(df2)\n",
    "df2['soilmiosture'] = df2['soilmiosture'].abs()\n",
    "df2['altitude'] = 675.6\n",
    "\n",
    "#dict_index = {'Very Dry':0, 'Dry':1, 'Very Wet':2, 'Wet':3}\n",
    "#df2 = df2.replace({'class': dict_index})\n",
    "    \n",
    "df2.head()"
   ]
  },
  {
   "cell_type": "code",
   "execution_count": 64,
   "id": "ba8a0eb4",
   "metadata": {},
   "outputs": [
    {
     "data": {
      "text/plain": [
       "(4688, 10)"
      ]
     },
     "execution_count": 64,
     "metadata": {},
     "output_type": "execute_result"
    }
   ],
   "source": [
    "df2.shape"
   ]
  },
  {
   "cell_type": "code",
   "execution_count": 88,
   "id": "3802412d",
   "metadata": {},
   "outputs": [
    {
     "data": {
      "text/html": [
       "<div>\n",
       "<style scoped>\n",
       "    .dataframe tbody tr th:only-of-type {\n",
       "        vertical-align: middle;\n",
       "    }\n",
       "\n",
       "    .dataframe tbody tr th {\n",
       "        vertical-align: top;\n",
       "    }\n",
       "\n",
       "    .dataframe thead th {\n",
       "        text-align: right;\n",
       "    }\n",
       "</style>\n",
       "<table border=\"1\" class=\"dataframe\">\n",
       "  <thead>\n",
       "    <tr style=\"text-align: right;\">\n",
       "      <th></th>\n",
       "      <th>id</th>\n",
       "      <th>temperature</th>\n",
       "      <th>pressure</th>\n",
       "      <th>altitude</th>\n",
       "      <th>soilmiosture</th>\n",
       "      <th>note</th>\n",
       "      <th>status</th>\n",
       "    </tr>\n",
       "  </thead>\n",
       "  <tbody>\n",
       "    <tr>\n",
       "      <th>id</th>\n",
       "      <td>1.000000</td>\n",
       "      <td>0.012024</td>\n",
       "      <td>-0.011548</td>\n",
       "      <td>NaN</td>\n",
       "      <td>-0.032764</td>\n",
       "      <td>0.009338</td>\n",
       "      <td>-0.017455</td>\n",
       "    </tr>\n",
       "    <tr>\n",
       "      <th>temperature</th>\n",
       "      <td>0.012024</td>\n",
       "      <td>1.000000</td>\n",
       "      <td>0.069229</td>\n",
       "      <td>NaN</td>\n",
       "      <td>-0.105001</td>\n",
       "      <td>0.034205</td>\n",
       "      <td>0.028588</td>\n",
       "    </tr>\n",
       "    <tr>\n",
       "      <th>pressure</th>\n",
       "      <td>-0.011548</td>\n",
       "      <td>0.069229</td>\n",
       "      <td>1.000000</td>\n",
       "      <td>NaN</td>\n",
       "      <td>0.033845</td>\n",
       "      <td>-0.007703</td>\n",
       "      <td>0.003589</td>\n",
       "    </tr>\n",
       "    <tr>\n",
       "      <th>altitude</th>\n",
       "      <td>NaN</td>\n",
       "      <td>NaN</td>\n",
       "      <td>NaN</td>\n",
       "      <td>NaN</td>\n",
       "      <td>NaN</td>\n",
       "      <td>NaN</td>\n",
       "      <td>NaN</td>\n",
       "    </tr>\n",
       "    <tr>\n",
       "      <th>soilmiosture</th>\n",
       "      <td>-0.032764</td>\n",
       "      <td>-0.105001</td>\n",
       "      <td>0.033845</td>\n",
       "      <td>NaN</td>\n",
       "      <td>1.000000</td>\n",
       "      <td>-0.974013</td>\n",
       "      <td>-0.897637</td>\n",
       "    </tr>\n",
       "    <tr>\n",
       "      <th>note</th>\n",
       "      <td>0.009338</td>\n",
       "      <td>0.034205</td>\n",
       "      <td>-0.007703</td>\n",
       "      <td>NaN</td>\n",
       "      <td>-0.974013</td>\n",
       "      <td>1.000000</td>\n",
       "      <td>0.908939</td>\n",
       "    </tr>\n",
       "    <tr>\n",
       "      <th>status</th>\n",
       "      <td>-0.017455</td>\n",
       "      <td>0.028588</td>\n",
       "      <td>0.003589</td>\n",
       "      <td>NaN</td>\n",
       "      <td>-0.897637</td>\n",
       "      <td>0.908939</td>\n",
       "      <td>1.000000</td>\n",
       "    </tr>\n",
       "  </tbody>\n",
       "</table>\n",
       "</div>"
      ],
      "text/plain": [
       "                    id  temperature  pressure  altitude  soilmiosture  \\\n",
       "id            1.000000     0.012024 -0.011548       NaN     -0.032764   \n",
       "temperature   0.012024     1.000000  0.069229       NaN     -0.105001   \n",
       "pressure     -0.011548     0.069229  1.000000       NaN      0.033845   \n",
       "altitude           NaN          NaN       NaN       NaN           NaN   \n",
       "soilmiosture -0.032764    -0.105001  0.033845       NaN      1.000000   \n",
       "note          0.009338     0.034205 -0.007703       NaN     -0.974013   \n",
       "status       -0.017455     0.028588  0.003589       NaN     -0.897637   \n",
       "\n",
       "                  note    status  \n",
       "id            0.009338 -0.017455  \n",
       "temperature   0.034205  0.028588  \n",
       "pressure     -0.007703  0.003589  \n",
       "altitude           NaN       NaN  \n",
       "soilmiosture -0.974013 -0.897637  \n",
       "note          1.000000  0.908939  \n",
       "status        0.908939  1.000000  "
      ]
     },
     "execution_count": 88,
     "metadata": {},
     "output_type": "execute_result"
    }
   ],
   "source": [
    "df2.corr()"
   ]
  },
  {
   "cell_type": "code",
   "execution_count": 179,
   "id": "c44b8eb2",
   "metadata": {},
   "outputs": [
    {
     "data": {
      "text/html": [
       "<div>\n",
       "<style scoped>\n",
       "    .dataframe tbody tr th:only-of-type {\n",
       "        vertical-align: middle;\n",
       "    }\n",
       "\n",
       "    .dataframe tbody tr th {\n",
       "        vertical-align: top;\n",
       "    }\n",
       "\n",
       "    .dataframe thead th {\n",
       "        text-align: right;\n",
       "    }\n",
       "</style>\n",
       "<table border=\"1\" class=\"dataframe\">\n",
       "  <thead>\n",
       "    <tr style=\"text-align: right;\">\n",
       "      <th></th>\n",
       "      <th>id</th>\n",
       "      <th>temperature</th>\n",
       "      <th>pressure</th>\n",
       "      <th>altitude</th>\n",
       "      <th>soilmiosture</th>\n",
       "      <th>note</th>\n",
       "      <th>status</th>\n",
       "    </tr>\n",
       "  </thead>\n",
       "  <tbody>\n",
       "    <tr>\n",
       "      <th>count</th>\n",
       "      <td>4688.000000</td>\n",
       "      <td>4688.000000</td>\n",
       "      <td>4688.000000</td>\n",
       "      <td>4.688000e+03</td>\n",
       "      <td>4688.000000</td>\n",
       "      <td>4688.000000</td>\n",
       "      <td>4688.000000</td>\n",
       "    </tr>\n",
       "    <tr>\n",
       "      <th>mean</th>\n",
       "      <td>2344.500000</td>\n",
       "      <td>29.599089</td>\n",
       "      <td>9963.153215</td>\n",
       "      <td>6.756000e+02</td>\n",
       "      <td>243.796075</td>\n",
       "      <td>1.878413</td>\n",
       "      <td>0.703712</td>\n",
       "    </tr>\n",
       "    <tr>\n",
       "      <th>std</th>\n",
       "      <td>1353.453361</td>\n",
       "      <td>5.842685</td>\n",
       "      <td>1383.602527</td>\n",
       "      <td>5.684948e-11</td>\n",
       "      <td>75.844348</td>\n",
       "      <td>1.152977</td>\n",
       "      <td>0.456668</td>\n",
       "    </tr>\n",
       "    <tr>\n",
       "      <th>min</th>\n",
       "      <td>1.000000</td>\n",
       "      <td>27.970000</td>\n",
       "      <td>-2120.400000</td>\n",
       "      <td>6.756000e+02</td>\n",
       "      <td>0.000000</td>\n",
       "      <td>0.000000</td>\n",
       "      <td>0.000000</td>\n",
       "    </tr>\n",
       "    <tr>\n",
       "      <th>25%</th>\n",
       "      <td>1172.750000</td>\n",
       "      <td>28.630000</td>\n",
       "      <td>9935.255000</td>\n",
       "      <td>6.756000e+02</td>\n",
       "      <td>171.000000</td>\n",
       "      <td>1.000000</td>\n",
       "      <td>0.000000</td>\n",
       "    </tr>\n",
       "    <tr>\n",
       "      <th>50%</th>\n",
       "      <td>2344.500000</td>\n",
       "      <td>29.180000</td>\n",
       "      <td>9969.535000</td>\n",
       "      <td>6.756000e+02</td>\n",
       "      <td>233.000000</td>\n",
       "      <td>2.000000</td>\n",
       "      <td>1.000000</td>\n",
       "    </tr>\n",
       "    <tr>\n",
       "      <th>75%</th>\n",
       "      <td>3516.250000</td>\n",
       "      <td>29.990000</td>\n",
       "      <td>9975.700000</td>\n",
       "      <td>6.756000e+02</td>\n",
       "      <td>326.000000</td>\n",
       "      <td>3.000000</td>\n",
       "      <td>1.000000</td>\n",
       "    </tr>\n",
       "    <tr>\n",
       "      <th>max</th>\n",
       "      <td>4688.000000</td>\n",
       "      <td>178.700000</td>\n",
       "      <td>99931.100000</td>\n",
       "      <td>6.756000e+02</td>\n",
       "      <td>480.000000</td>\n",
       "      <td>3.000000</td>\n",
       "      <td>1.000000</td>\n",
       "    </tr>\n",
       "  </tbody>\n",
       "</table>\n",
       "</div>"
      ],
      "text/plain": [
       "                id  temperature      pressure      altitude  soilmiosture  \\\n",
       "count  4688.000000  4688.000000   4688.000000  4.688000e+03   4688.000000   \n",
       "mean   2344.500000    29.599089   9963.153215  6.756000e+02    243.796075   \n",
       "std    1353.453361     5.842685   1383.602527  5.684948e-11     75.844348   \n",
       "min       1.000000    27.970000  -2120.400000  6.756000e+02      0.000000   \n",
       "25%    1172.750000    28.630000   9935.255000  6.756000e+02    171.000000   \n",
       "50%    2344.500000    29.180000   9969.535000  6.756000e+02    233.000000   \n",
       "75%    3516.250000    29.990000   9975.700000  6.756000e+02    326.000000   \n",
       "max    4688.000000   178.700000  99931.100000  6.756000e+02    480.000000   \n",
       "\n",
       "              note       status  \n",
       "count  4688.000000  4688.000000  \n",
       "mean      1.878413     0.703712  \n",
       "std       1.152977     0.456668  \n",
       "min       0.000000     0.000000  \n",
       "25%       1.000000     0.000000  \n",
       "50%       2.000000     1.000000  \n",
       "75%       3.000000     1.000000  \n",
       "max       3.000000     1.000000  "
      ]
     },
     "execution_count": 179,
     "metadata": {},
     "output_type": "execute_result"
    }
   ],
   "source": [
    "df2.describe()"
   ]
  },
  {
   "cell_type": "code",
   "execution_count": 65,
   "id": "c2c9d0dc",
   "metadata": {},
   "outputs": [],
   "source": [
    "#Plot a seaborn graph to illustrate a IOT dataset\n"
   ]
  },
  {
   "cell_type": "code",
   "execution_count": 263,
   "id": "e01fe9fe",
   "metadata": {},
   "outputs": [
    {
     "data": {
      "image/png": "[encoded data removed]",
      "text/plain": [
       "<Figure size 600x800 with 9 Axes>"
      ]
     },
     "metadata": {},
     "output_type": "display_data"
    }
   ],
   "source": [
    "#classify X and Y into dependant and independant veriable\n",
    "Y = df2.loc[:, ['class']] # Inependent variable\n",
    "X = df2.loc[:, ['pressure', 'soilmiosture']] # dependent variable-\n",
    "\n",
    "df2.hist(bins=10, figsize=(6, 8))\n",
    "plt.show()"
   ]
  },
  {
   "cell_type": "code",
   "execution_count": 313,
   "id": "95e95129",
   "metadata": {},
   "outputs": [],
   "source": [
    "#split dataset into train and test ratio 80:20\n",
    "x_train, x_test, y_train, y_test = train_test_split(X, Y, random_state=42, test_size = 0.5)\n",
    "#plt.scatter(x_train, x_test)"
   ]
  },
  {
   "cell_type": "code",
   "execution_count": 314,
   "id": "d6c79472",
   "metadata": {},
   "outputs": [],
   "source": [
    "#initializethe model\n",
    "gnb = GaussianNB()\n",
    "#build the model\n",
    "model = gnb.fit(x_train, y_train.values.ravel())"
   ]
  },
  {
   "cell_type": "code",
   "execution_count": 315,
   "id": "645aab25",
   "metadata": {},
   "outputs": [],
   "source": [
    "#Model Prediction\n",
    "pred = model.predict(x_test)"
   ]
  },
  {
   "cell_type": "code",
   "execution_count": 316,
   "id": "85446267",
   "metadata": {},
   "outputs": [
    {
     "name": "stdout",
     "output_type": "stream",
     "text": [
      "0.9671501706484642\n"
     ]
    }
   ],
   "source": [
    "#ML Evaluation and performance\n",
    "print(accuracy_score(y_test, pred))"
   ]
  },
  {
   "cell_type": "code",
   "execution_count": 317,
   "id": "6b481291",
   "metadata": {},
   "outputs": [
    {
     "name": "stdout",
     "output_type": "stream",
     "text": [
      "              precision    recall  f1-score   support\n",
      "\n",
      "         Dry       0.85      0.72      0.78       179\n",
      "    Very Dry       0.92      0.96      0.94       516\n",
      "    Very Wet       1.00      1.00      1.00       938\n",
      "         Wet       0.99      1.00      0.99       711\n",
      "\n",
      "    accuracy                           0.97      2344\n",
      "   macro avg       0.94      0.92      0.93      2344\n",
      "weighted avg       0.97      0.97      0.97      2344\n",
      "\n"
     ]
    }
   ],
   "source": [
    "print(classification_report(y_test, pred))"
   ]
  },
  {
   "cell_type": "code",
   "execution_count": 295,
   "id": "58ada482",
   "metadata": {},
   "outputs": [
    {
     "name": "stdout",
     "output_type": "stream",
     "text": [
      "[[129  44   0   6]\n",
      " [ 22 494   0   0]\n",
      " [  0   0 934   4]\n",
      " [  0   0   1 710]]\n"
     ]
    }
   ],
   "source": [
    "print(confusion_matrix(y_test, pred))"
   ]
  },
  {
   "cell_type": "code",
   "execution_count": 296,
   "id": "e0fe3b44",
   "metadata": {},
   "outputs": [],
   "source": [
    "#initializethe Random forest model\n",
    "rfc = RandomForestClassifier(max_depth=2, random_state=0)\n",
    "rfc_model = rfc.fit(x_train, y_train.values.reshape(-1,))"
   ]
  },
  {
   "cell_type": "code",
   "execution_count": 297,
   "id": "8d3889e8",
   "metadata": {},
   "outputs": [],
   "source": [
    "rfc_pred = rfc_model.predict(x_test)"
   ]
  },
  {
   "cell_type": "code",
   "execution_count": 298,
   "id": "ddffcddf",
   "metadata": {},
   "outputs": [
    {
     "name": "stdout",
     "output_type": "stream",
     "text": [
      "0.9001706484641638\n"
     ]
    }
   ],
   "source": [
    "#ML Evaluation and performance\n",
    "print(accuracy_score(y_test, rfc_pred))"
   ]
  },
  {
   "cell_type": "code",
   "execution_count": 299,
   "id": "87ab2b62",
   "metadata": {},
   "outputs": [
    {
     "name": "stdout",
     "output_type": "stream",
     "text": [
      "              precision    recall  f1-score   support\n",
      "\n",
      "         Dry       0.00      0.00      0.00       179\n",
      "    Very Dry       0.73      0.89      0.80       516\n",
      "    Very Wet       1.00      1.00      1.00       938\n",
      "         Wet       0.92      1.00      0.96       711\n",
      "\n",
      "    accuracy                           0.90      2344\n",
      "   macro avg       0.66      0.72      0.69      2344\n",
      "weighted avg       0.84      0.90      0.87      2344\n",
      "\n"
     ]
    },
    {
     "name": "stderr",
     "output_type": "stream",
     "text": [
      "C:\\Users\\chine\\anaconda3\\lib\\site-packages\\sklearn\\metrics\\_classification.py:1318: UndefinedMetricWarning: Precision and F-score are ill-defined and being set to 0.0 in labels with no predicted samples. Use `zero_division` parameter to control this behavior.\n",
      "  _warn_prf(average, modifier, msg_start, len(result))\n",
      "C:\\Users\\chine\\anaconda3\\lib\\site-packages\\sklearn\\metrics\\_classification.py:1318: UndefinedMetricWarning: Precision and F-score are ill-defined and being set to 0.0 in labels with no predicted samples. Use `zero_division` parameter to control this behavior.\n",
      "  _warn_prf(average, modifier, msg_start, len(result))\n",
      "C:\\Users\\chine\\anaconda3\\lib\\site-packages\\sklearn\\metrics\\_classification.py:1318: UndefinedMetricWarning: Precision and F-score are ill-defined and being set to 0.0 in labels with no predicted samples. Use `zero_division` parameter to control this behavior.\n",
      "  _warn_prf(average, modifier, msg_start, len(result))\n"
     ]
    }
   ],
   "source": [
    "print(classification_report(y_test, rfc_pred))"
   ]
  },
  {
   "cell_type": "code",
   "execution_count": 300,
   "id": "40b72dae",
   "metadata": {},
   "outputs": [
    {
     "name": "stdout",
     "output_type": "stream",
     "text": [
      "[[  0 171   0   8]\n",
      " [  0 461   0  55]\n",
      " [  0   0 938   0]\n",
      " [  0   0   0 711]]\n"
     ]
    }
   ],
   "source": [
    "print(confusion_matrix(y_test, rfc_pred))"
   ]
  },
  {
   "cell_type": "code",
   "execution_count": 301,
   "id": "ab00f3b6",
   "metadata": {},
   "outputs": [],
   "source": [
    "# intialize DecisionTree Model\n",
    "dctree = DecisionTreeClassifier(random_state=0)\n",
    "dctree_model = dctree.fit(x_train, y_train)"
   ]
  },
  {
   "cell_type": "code",
   "execution_count": 302,
   "id": "1ab58113",
   "metadata": {},
   "outputs": [
    {
     "data": {
      "text/plain": [
       "array(['Wet', 'Very Wet', 'Wet', ..., 'Very Dry', 'Wet', 'Very Dry'],\n",
       "      dtype=object)"
      ]
     },
     "execution_count": 302,
     "metadata": {},
     "output_type": "execute_result"
    }
   ],
   "source": [
    "#Model Prediction of decision tree\n",
    "dctree_pred = dctree_model.predict(x_test)\n",
    "dctree_pred \n"
   ]
  },
  {
   "cell_type": "code",
   "execution_count": 303,
   "id": "4bf2e633",
   "metadata": {},
   "outputs": [
    {
     "name": "stdout",
     "output_type": "stream",
     "text": [
      "1.0\n"
     ]
    }
   ],
   "source": [
    "#Evaluation decision tree model\n",
    "print(accuracy_score(y_test, dctree_pred))\n"
   ]
  },
  {
   "cell_type": "code",
   "execution_count": 304,
   "id": "d5e7cc41",
   "metadata": {},
   "outputs": [
    {
     "name": "stdout",
     "output_type": "stream",
     "text": [
      "              precision    recall  f1-score   support\n",
      "\n",
      "         Dry       1.00      1.00      1.00       179\n",
      "    Very Dry       1.00      1.00      1.00       516\n",
      "    Very Wet       1.00      1.00      1.00       938\n",
      "         Wet       1.00      1.00      1.00       711\n",
      "\n",
      "    accuracy                           1.00      2344\n",
      "   macro avg       1.00      1.00      1.00      2344\n",
      "weighted avg       1.00      1.00      1.00      2344\n",
      "\n"
     ]
    }
   ],
   "source": [
    "print(classification_report(y_test, dctree_pred))"
   ]
  },
  {
   "cell_type": "code",
   "execution_count": 305,
   "id": "0a8fc3c5",
   "metadata": {},
   "outputs": [
    {
     "name": "stdout",
     "output_type": "stream",
     "text": [
      "[[179   0   0   0]\n",
      " [  0 516   0   0]\n",
      " [  0   0 938   0]\n",
      " [  0   0   0 711]]\n"
     ]
    }
   ],
   "source": [
    "print(confusion_matrix(y_test, dctree_pred))"
   ]
  },
  {
   "cell_type": "code",
   "execution_count": 306,
   "id": "71db66f9",
   "metadata": {},
   "outputs": [],
   "source": [
    "# intialize Deci sionTree Model \n",
    "sclf = make_pipeline(StandardScaler(), SVC(gamma='auto'))\n",
    "sclf_model= sclf.fit(x_train, y_train.values.reshape(-1,))"
   ]
  },
  {
   "cell_type": "code",
   "execution_count": 307,
   "id": "e2c54c09",
   "metadata": {},
   "outputs": [
    {
     "data": {
      "text/plain": [
       "array(['Wet', 'Very Wet', 'Wet', ..., 'Very Dry', 'Wet', 'Very Dry'],\n",
       "      dtype=object)"
      ]
     },
     "execution_count": 307,
     "metadata": {},
     "output_type": "execute_result"
    }
   ],
   "source": [
    "#Model Prediction of decision tree\n",
    "sclf_pred = sclf_model.predict(x_test)\n",
    "sclf_pred "
   ]
  },
  {
   "cell_type": "code",
   "execution_count": 308,
   "id": "86466102",
   "metadata": {},
   "outputs": [
    {
     "name": "stdout",
     "output_type": "stream",
     "text": [
      "0.9850682593856656\n"
     ]
    }
   ],
   "source": [
    "#Evaluation SVM model\n",
    "print(accuracy_score(y_test, sclf_pred))"
   ]
  },
  {
   "cell_type": "code",
   "execution_count": null,
   "id": "7a9dd3ba",
   "metadata": {},
   "outputs": [],
   "source": []
  },
  {
   "cell_type": "code",
   "execution_count": null,
   "id": "469359de",
   "metadata": {},
   "outputs": [],
   "source": []
  }
 ],
 "metadata": {
  "kernelspec": {
   "display_name": "Python 3 (ipykernel)",
   "language": "python",
   "name": "python3"
  },
  "language_info": {
   "codemirror_mode": {
    "name": "ipython",
    "version": 3
   },
   "file_extension": ".py",
   "mimetype": "text/x-python",
   "name": "python",
   "nbconvert_exporter": "python",
   "pygments_lexer": "ipython3",
   "version": "3.9.13"
  }
 },
 "nbformat": 4,
 "nbformat_minor": 5
}
